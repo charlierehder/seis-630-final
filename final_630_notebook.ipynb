{
 "cells": [
  {
   "cell_type": "markdown",
   "id": "cce3f028-be61-4522-929e-5518d0972ecb",
   "metadata": {},
   "source": [
    "Proof of concept notebook to build a chat bot that I can talk to about jazz music. This will be able to run locally, with the eventual goal of packaging this up and being able to run it in the cloud. \n",
    "\n",
    "1. Firstly I'll use the ADA-002 text embedding functionality to vectorize RAG data.\n",
    "2. I'll use pinecone to store the vectorized text\n",
    "3. Also, GPT-3.5 Turbo will be used as the Gen AI model that our vector database will send the prompt/context to.\n",
    "4. Lastly, LangChain will be used to create the pipline that connects these disparate parts.\n",
    "\n",
    "The data soure I'll use is Wikipedia data that we'll scrap using the *mwcleint* and *mwparserfromhell*. You could also you *wikipedia*, although I had seen feedback that that library might be a little outdated at this point.\n",
    "\n",
    "To help with the Wikipedia article scraping the **OpenAI Cookbook** article on the same was consulted frequently (https://cookbook.openai.com/examples/embedding_wikipedia_articles_for_search)"
   ]
  },
  {
   "cell_type": "code",
   "execution_count": 75,
   "id": "ce1a655d",
   "metadata": {},
   "outputs": [],
   "source": [
    "# import libraries for interacting with wikipedia\n",
    "import pandas as pd # to use the DataFrames to store our data :) \n",
    "import mwclient # to download Wikipedia articles \n",
    "import mwparserfromhell # to parse through the articles afterwards"
   ]
  },
  {
   "cell_type": "code",
   "execution_count": 76,
   "id": "70ca34cf",
   "metadata": {},
   "outputs": [],
   "source": [
    "import os \n",
    "# setting constants \n",
    "\n",
    "# for Wikipedia data gather \n",
    "SITE_NAME = 'en.wikipedia.org'\n",
    "ARTICLE_NAME_1 = 'Category:American male jazz musicians'\n",
    "ARTICLE_NAME_2 = 'Category:American women jazz musicians'\n",
    "SECTIONS_TO_IGNORE = [ # sections that we don't want to store\n",
    "    \"See also\",\n",
    "    \"References\",\n",
    "    \"External links\",\n",
    "    \"Further reading\",\n",
    "    \"Footnotes\",\n",
    "    \"Bibliography\",\n",
    "    \"Sources\",\n",
    "    \"Citations\",\n",
    "    \"Literature\",\n",
    "    \"Footnotes\",\n",
    "    \"Notes and references\",\n",
    "    \"Photo gallery\",\n",
    "    \"Works cited\",\n",
    "    \"Photos\",\n",
    "    \"Gallery\",\n",
    "    \"Notes\",\n",
    "    \"References and sources\",\n",
    "    \"References and notes\",\n",
    "    'Sources',\n",
    "    \"Discography\",\n",
    "    \"Selected discography\",\n",
    "    \"Sessionography\",\n",
    "    \"Filmography\",\n",
    "    \"Concert films\",\n",
    "    \"Books\",\n",
    "    \"Awards\",\n",
    "    \"Awards and honors\",\n",
    "    \"Awards and accolades\"\n",
    "]"
   ]
  },
  {
   "cell_type": "code",
   "execution_count": 33,
   "id": "fca050bc",
   "metadata": {},
   "outputs": [],
   "source": [
    "import yaml\n",
    "\n",
    "with open(\"secrets.yaml\", \"r\") as file:\n",
    "    keys = yaml.safe_load(file)\n",
    "\n",
    "OPENAI_KEY = keys[\"secrets\"][\"openai_key\"]\n",
    "PINECONE_KEY = keys[\"secrets\"][\"pinecone_key\"]"
   ]
  },
  {
   "cell_type": "code",
   "execution_count": 77,
   "id": "b6bbcab3",
   "metadata": {},
   "outputs": [
    {
     "name": "stdout",
     "output_type": "stream",
     "text": [
      "Found 2775 article titles in Category:American male jazz musicians and Category:American women jazz musicians.\n"
     ]
    }
   ],
   "source": [
    "# instantiate API client and iterate through each entry in the category page and\n",
    "# add it to a set of titles - will use this list to grab page content iteratively\n",
    "\n",
    "titles = set() # relevent article titles \n",
    "\n",
    "# get American male jazz musician article titles\n",
    "site = mwclient.Site(SITE_NAME)\n",
    "category_page_1 = site.pages[ARTICLE_NAME_1]\n",
    "for cm in category_page_1.members():\n",
    "    if type(cm) == mwclient.page.Page:\n",
    "        titles.add(cm.name)\n",
    "\n",
    "# get American female jazz musician article titles \n",
    "category_page_2 = site.pages[ARTICLE_NAME_2]\n",
    "for cm in category_page_2.members():\n",
    "    if type(cm) == mwclient.page.Page:\n",
    "        titles.add(cm.name)\n",
    "\n",
    "print(f\"Found {len(titles)} article titles in {ARTICLE_NAME_1} and {ARTICLE_NAME_2}.\")"
   ]
  },
  {
   "cell_type": "code",
   "execution_count": 79,
   "id": "d3a0ec10",
   "metadata": {},
   "outputs": [
    {
     "name": "stdout",
     "output_type": "stream",
     "text": [
      "Extracted text from 12213 Wikipedia sections.\n"
     ]
    }
   ],
   "source": [
    "# store article contents \n",
    "\n",
    "wikipedia_sections = []\n",
    "for title in titles: \n",
    "    site = mwclient.Site(SITE_NAME)\n",
    "    page = site.pages[title]\n",
    "    text = page.text()\n",
    "    parsed_text = mwparserfromhell.parse(text)\n",
    "    for section in parsed_text.get_sections():\n",
    "        if section.get(0).title not in SECTIONS_TO_IGNORE:\n",
    "            wikipedia_sections.append(section.strip_code())\n",
    "\n",
    "print(f\"Extracted text from {len(wikipedia_sections)} Wikipedia sections.\")"
   ]
  },
  {
   "cell_type": "code",
   "execution_count": 95,
   "id": "0b2b026d",
   "metadata": {},
   "outputs": [
    {
     "name": "stdout",
     "output_type": "stream",
     "text": [
      "John T. Klemmer (born July 3, 1946) is an American saxophonist, composer, songwriter, and arranger.\n",
      "\n",
      "He was born in Chicago, Illinois, United States, and began playing guitar at the age of five and alto saxophone at the age of 11. His other early interests included graphics and visual art, writing, dance, puppetry, painting, sculpting, and poetry. He studied at the Art Institute of Chicago and began touring with midwestern \"ghost big bands\" (Les Elgart, Woody Herman) as well as playing with small local jazz and rock groups. After switching to tenor saxophone in high school, Klemmer played with commercial small groups and big bands in Chicago while leading his own groups and touring.\n"
     ]
    }
   ],
   "source": [
    "print(wikipedia_sections[0])"
   ]
  },
  {
   "cell_type": "code",
   "execution_count": 110,
   "id": "8022254d",
   "metadata": {},
   "outputs": [
    {
     "name": "stdout",
     "output_type": "stream",
     "text": [
      "12213 Wikipedia sections split into 19006 strings.\n"
     ]
    }
   ],
   "source": [
    "from langchain.text_splitter import RecursiveCharacterTextSplitter \n",
    "\n",
    "# instantiate text splitter break up articles into embed-able strings \n",
    "splitter = RecursiveCharacterTextSplitter(\n",
    "    separators=[\"\\n\\n\", \"\\n\", \" \", \"\"],\n",
    "    chunk_size = 1500, \n",
    "    chunk_overlap = 300,\n",
    "    length_function = len,\n",
    ")\n",
    "\n",
    "# run the splitter on each article text\n",
    "wikipedia_strings = []\n",
    "for ws in wikipedia_sections:\n",
    "    wikipedia_strings.extend(splitter.split_text(ws))\n",
    "\n",
    "print(f\"{len(wikipedia_sections)} Wikipedia sections split into {len(wikipedia_strings)} strings.\")"
   ]
  },
  {
   "cell_type": "code",
   "execution_count": 111,
   "id": "1eff2dc4",
   "metadata": {},
   "outputs": [
    {
     "name": "stdout",
     "output_type": "stream",
     "text": [
      "Filtered out 429 strings.\n"
     ]
    }
   ],
   "source": [
    "# remove short strings \n",
    "filtered_wikipedia_strings = [ws for ws in wikipedia_strings if len(ws) > 16]\n",
    "print(f\"Filtered out {len(wikipedia_strings) - len(filtered_wikipedia_strings)} strings.\")"
   ]
  },
  {
   "cell_type": "code",
   "execution_count": 112,
   "id": "7a9a536e",
   "metadata": {},
   "outputs": [
    {
     "name": "stdout",
     "output_type": "stream",
     "text": [
      "John T. Klemmer (born July 3, 1946) is an American saxophonist, composer, songwriter, and arranger.\n",
      "\n",
      "He was born in Chicago, Illinois, United States, and began playing guitar at the age of five and alto saxophone at the age of 11. His other early interests included graphics and visual art, writing, dance, puppetry, painting, sculpting, and poetry. He studied at the Art Institute of Chicago and began touring with midwestern \"ghost big bands\" (Les Elgart, Woody Herman) as well as playing with small local jazz and rock groups. After switching to tenor saxophone in high school, Klemmer played with commercial small groups and big bands in Chicago while leading his own groups and touring.\n"
     ]
    }
   ],
   "source": [
    "# look at a test string\n",
    "print(wikipedia_strings[0])"
   ]
  },
  {
   "cell_type": "markdown",
   "id": "88448197",
   "metadata": {},
   "source": [
    "#### Create RAG database and language model pipline\n",
    "\n",
    "* Create embed model and embed text\n",
    "* Create and populate RAG database with using embed model\n",
    "* Instantiate LLM and connect pipeline together"
   ]
  },
  {
   "cell_type": "code",
   "execution_count": 85,
   "id": "65fec0f1",
   "metadata": {},
   "outputs": [
    {
     "name": "stdout",
     "output_type": "stream",
     "text": [
      "Created 25594 embeddings from 25594 strings.\n"
     ]
    }
   ],
   "source": [
    "import openai\n",
    "from langchain_openai import OpenAIEmbeddings\n",
    "from langchain.vectorstores import Pinecone\n",
    "from langchain.chat_models import ChatOpenAI\n",
    "\n",
    "\n",
    "# set openai key\n",
    "openai.key = OPENAI_KEY\n",
    "\n",
    "# instantiate embedding object to feed strings into\n",
    "embed = OpenAIEmbeddings(\n",
    "    model = \"text-embedding-ada-002\",\n",
    "    openai_api_key = OPENAI_KEY\n",
    ")\n",
    "\n",
    "# create embeddings with ada-002 model with a batch of 1000 strings at a time\n",
    "BATCH_SIZE = 1000\n",
    "embeddings = []\n",
    "for batch_start in range(0, len(wikipedia_strings), BATCH_SIZE):\n",
    "    batch_end = batch_start + BATCH_SIZE\n",
    "    batch = wikipedia_strings[batch_start:batch_end]\n",
    "    # print(f\"Batch {batch_start} to {batch_end-1}\")\n",
    "    embedding = embed.embed_documents(batch)\n",
    "    embeddings.extend(embedding)\n",
    "\n",
    "df = pd.DataFrame({\"text\": wikipedia_strings, \"embedding\": embeddings})\n",
    "print(f\"Created {len(embeddings)} embeddings from {len(wikipedia_strings)} strings.\")"
   ]
  },
  {
   "cell_type": "code",
   "execution_count": 91,
   "id": "b708184f",
   "metadata": {},
   "outputs": [],
   "source": [
    "# create pinecone vector database \n",
    "from pinecone import Pinecone \n",
    "from pinecone import ServerlessSpec\n",
    "import time \n",
    "\n",
    "index_name = 'seis-630-final-project-vectorstore'\n",
    "\n",
    "pc = Pinecone(api_key = PINECONE_KEY)\n",
    "spec = ServerlessSpec(cloud='aws', region='us-east-1')\n",
    "\n",
    "pc.create_index(\n",
    "    index_name,\n",
    "    dimension=1536, # dimensionality used by ADA-002 text embedding\n",
    "    metric='dotproduct',\n",
    "    spec=spec \n",
    ")\n",
    "\n",
    "# wait for index initialization \n",
    "while not pc.describe_index(index_name).status['ready']:\n",
    "    time.sleep(1)"
   ]
  },
  {
   "cell_type": "code",
   "execution_count": 92,
   "id": "8929db5b",
   "metadata": {},
   "outputs": [
    {
     "data": {
      "text/plain": [
       "{'dimension': 1536,\n",
       " 'host': 'seis-630-final-project-vectorstore-kg3o9zv.svc.aped-4627-b74a.pinecone.io',\n",
       " 'metric': 'dotproduct',\n",
       " 'name': 'seis-630-final-project-vectorstore',\n",
       " 'spec': {'serverless': {'cloud': 'aws', 'region': 'us-east-1'}},\n",
       " 'status': {'ready': True, 'state': 'Ready'}}"
      ]
     },
     "execution_count": 92,
     "metadata": {},
     "output_type": "execute_result"
    }
   ],
   "source": [
    "pc.describe_index(index_name)"
   ]
  },
  {
   "cell_type": "code",
   "execution_count": 94,
   "id": "5ab4fa90",
   "metadata": {},
   "outputs": [
    {
     "name": "stdout",
     "output_type": "stream",
     "text": [
      "Batch 0 to 99\n",
      "Batch 100 to 199\n",
      "Batch 200 to 299\n",
      "Batch 300 to 399\n",
      "Batch 400 to 499\n",
      "Batch 500 to 599\n",
      "Batch 600 to 699\n",
      "Batch 700 to 799\n",
      "Batch 800 to 899\n",
      "Batch 900 to 999\n",
      "Batch 1000 to 1099\n",
      "Batch 1100 to 1199\n",
      "Batch 1200 to 1299\n",
      "Batch 1300 to 1399\n",
      "Batch 1400 to 1499\n",
      "Batch 1500 to 1599\n",
      "Batch 1600 to 1699\n",
      "Batch 1700 to 1799\n",
      "Batch 1800 to 1899\n",
      "Batch 1900 to 1999\n",
      "Batch 2000 to 2099\n",
      "Batch 2100 to 2199\n",
      "Batch 2200 to 2299\n",
      "Batch 2300 to 2399\n",
      "Batch 2400 to 2499\n",
      "Batch 2500 to 2599\n",
      "Batch 2600 to 2699\n",
      "Batch 2700 to 2799\n",
      "Batch 2800 to 2899\n",
      "Batch 2900 to 2999\n",
      "Batch 3000 to 3099\n",
      "Batch 3100 to 3199\n",
      "Batch 3200 to 3299\n",
      "Batch 3300 to 3399\n",
      "Batch 3400 to 3499\n",
      "Batch 3500 to 3599\n",
      "Batch 3600 to 3699\n",
      "Batch 3700 to 3799\n",
      "Batch 3800 to 3899\n",
      "Batch 3900 to 3999\n",
      "Batch 4000 to 4099\n",
      "Batch 4100 to 4199\n",
      "Batch 4200 to 4299\n",
      "Batch 4300 to 4399\n",
      "Batch 4400 to 4499\n",
      "Batch 4500 to 4599\n",
      "Batch 4600 to 4699\n",
      "Batch 4700 to 4799\n",
      "Batch 4800 to 4899\n",
      "Batch 4900 to 4999\n",
      "Batch 5000 to 5099\n",
      "Batch 5100 to 5199\n",
      "Batch 5200 to 5299\n",
      "Batch 5300 to 5399\n",
      "Batch 5400 to 5499\n",
      "Batch 5500 to 5599\n",
      "Batch 5600 to 5699\n",
      "Batch 5700 to 5799\n",
      "Batch 5800 to 5899\n",
      "Batch 5900 to 5999\n",
      "Batch 6000 to 6099\n",
      "Batch 6100 to 6199\n",
      "Batch 6200 to 6299\n",
      "Batch 6300 to 6399\n",
      "Batch 6400 to 6499\n",
      "Batch 6500 to 6599\n",
      "Batch 6600 to 6699\n",
      "Batch 6700 to 6799\n",
      "Batch 6800 to 6899\n",
      "Batch 6900 to 6999\n",
      "Batch 7000 to 7099\n",
      "Batch 7100 to 7199\n",
      "Batch 7200 to 7299\n",
      "Batch 7300 to 7399\n",
      "Batch 7400 to 7499\n",
      "Batch 7500 to 7599\n",
      "Batch 7600 to 7699\n",
      "Batch 7700 to 7799\n",
      "Batch 7800 to 7899\n",
      "Batch 7900 to 7999\n",
      "Batch 8000 to 8099\n",
      "Batch 8100 to 8199\n",
      "Batch 8200 to 8299\n",
      "Batch 8300 to 8399\n",
      "Batch 8400 to 8499\n",
      "Batch 8500 to 8599\n",
      "Batch 8600 to 8699\n",
      "Batch 8700 to 8799\n",
      "Batch 8800 to 8899\n",
      "Batch 8900 to 8999\n",
      "Batch 9000 to 9099\n",
      "Batch 9100 to 9199\n",
      "Batch 9200 to 9299\n",
      "Batch 9300 to 9399\n",
      "Batch 9400 to 9499\n",
      "Batch 9500 to 9599\n",
      "Batch 9600 to 9699\n",
      "Batch 9700 to 9799\n",
      "Batch 9800 to 9899\n",
      "Batch 9900 to 9999\n",
      "Batch 10000 to 10099\n",
      "Batch 10100 to 10199\n",
      "Batch 10200 to 10299\n",
      "Batch 10300 to 10399\n",
      "Batch 10400 to 10499\n",
      "Batch 10500 to 10599\n",
      "Batch 10600 to 10699\n",
      "Batch 10700 to 10799\n",
      "Batch 10800 to 10899\n",
      "Batch 10900 to 10999\n",
      "Batch 11000 to 11099\n",
      "Batch 11100 to 11199\n",
      "Batch 11200 to 11299\n",
      "Batch 11300 to 11399\n",
      "Batch 11400 to 11499\n",
      "Batch 11500 to 11599\n",
      "Batch 11600 to 11699\n",
      "Batch 11700 to 11799\n",
      "Batch 11800 to 11899\n",
      "Batch 11900 to 11999\n",
      "Batch 12000 to 12099\n",
      "Batch 12100 to 12199\n",
      "Batch 12200 to 12299\n",
      "Batch 12300 to 12399\n",
      "Batch 12400 to 12499\n",
      "Batch 12500 to 12599\n",
      "Batch 12600 to 12699\n",
      "Batch 12700 to 12799\n",
      "Batch 12800 to 12899\n",
      "Batch 12900 to 12999\n",
      "Batch 13000 to 13099\n",
      "Batch 13100 to 13199\n",
      "Batch 13200 to 13299\n",
      "Batch 13300 to 13399\n",
      "Batch 13400 to 13499\n",
      "Batch 13500 to 13599\n",
      "Batch 13600 to 13699\n",
      "Batch 13700 to 13799\n",
      "Batch 13800 to 13899\n",
      "Batch 13900 to 13999\n",
      "Batch 14000 to 14099\n",
      "Batch 14100 to 14199\n",
      "Batch 14200 to 14299\n",
      "Batch 14300 to 14399\n",
      "Batch 14400 to 14499\n",
      "Batch 14500 to 14599\n",
      "Batch 14600 to 14699\n",
      "Batch 14700 to 14799\n",
      "Batch 14800 to 14899\n",
      "Batch 14900 to 14999\n",
      "Batch 15000 to 15099\n",
      "Batch 15100 to 15199\n",
      "Batch 15200 to 15299\n",
      "Batch 15300 to 15399\n",
      "Batch 15400 to 15499\n",
      "Batch 15500 to 15599\n",
      "Batch 15600 to 15699\n",
      "Batch 15700 to 15799\n",
      "Batch 15800 to 15899\n",
      "Batch 15900 to 15999\n",
      "Batch 16000 to 16099\n",
      "Batch 16100 to 16199\n",
      "Batch 16200 to 16299\n",
      "Batch 16300 to 16399\n",
      "Batch 16400 to 16499\n",
      "Batch 16500 to 16599\n",
      "Batch 16600 to 16699\n",
      "Batch 16700 to 16799\n",
      "Batch 16800 to 16899\n",
      "Batch 16900 to 16999\n",
      "Batch 17000 to 17099\n",
      "Batch 17100 to 17199\n",
      "Batch 17200 to 17299\n",
      "Batch 17300 to 17399\n",
      "Batch 17400 to 17499\n",
      "Batch 17500 to 17599\n",
      "Batch 17600 to 17699\n",
      "Batch 17700 to 17799\n",
      "Batch 17800 to 17899\n",
      "Batch 17900 to 17999\n",
      "Batch 18000 to 18099\n",
      "Batch 18100 to 18199\n",
      "Batch 18200 to 18299\n",
      "Batch 18300 to 18399\n",
      "Batch 18400 to 18499\n",
      "Batch 18500 to 18599\n",
      "Batch 18600 to 18699\n",
      "Batch 18700 to 18799\n",
      "Batch 18800 to 18899\n",
      "Batch 18900 to 18999\n",
      "Batch 19000 to 19099\n",
      "Batch 19100 to 19199\n",
      "Batch 19200 to 19299\n",
      "Batch 19300 to 19399\n",
      "Batch 19400 to 19499\n",
      "Batch 19500 to 19599\n",
      "Batch 19600 to 19699\n",
      "Batch 19700 to 19799\n",
      "Batch 19800 to 19899\n",
      "Batch 19900 to 19999\n",
      "Batch 20000 to 20099\n",
      "Batch 20100 to 20199\n",
      "Batch 20200 to 20299\n",
      "Batch 20300 to 20399\n",
      "Batch 20400 to 20499\n",
      "Batch 20500 to 20599\n",
      "Batch 20600 to 20699\n",
      "Batch 20700 to 20799\n",
      "Batch 20800 to 20899\n",
      "Batch 20900 to 20999\n",
      "Batch 21000 to 21099\n",
      "Batch 21100 to 21199\n",
      "Batch 21200 to 21299\n",
      "Batch 21300 to 21399\n",
      "Batch 21400 to 21499\n",
      "Batch 21500 to 21599\n",
      "Batch 21600 to 21699\n",
      "Batch 21700 to 21799\n",
      "Batch 21800 to 21899\n",
      "Batch 21900 to 21999\n",
      "Batch 22000 to 22099\n",
      "Batch 22100 to 22199\n",
      "Batch 22200 to 22299\n",
      "Batch 22300 to 22399\n",
      "Batch 22400 to 22499\n",
      "Batch 22500 to 22599\n",
      "Batch 22600 to 22699\n",
      "Batch 22700 to 22799\n",
      "Batch 22800 to 22899\n",
      "Batch 22900 to 22999\n",
      "Batch 23000 to 23099\n",
      "Batch 23100 to 23199\n",
      "Batch 23200 to 23299\n",
      "Batch 23300 to 23399\n",
      "Batch 23400 to 23499\n",
      "Batch 23500 to 23599\n",
      "Batch 23600 to 23699\n",
      "Batch 23700 to 23799\n",
      "Batch 23800 to 23899\n",
      "Batch 23900 to 23999\n",
      "Batch 24000 to 24099\n",
      "Batch 24100 to 24199\n",
      "Batch 24200 to 24299\n",
      "Batch 24300 to 24399\n",
      "Batch 24400 to 24499\n",
      "Batch 24500 to 24599\n",
      "Batch 24600 to 24699\n",
      "Batch 24700 to 24799\n",
      "Batch 24800 to 24899\n",
      "Batch 24900 to 24999\n",
      "Batch 25000 to 25099\n",
      "Batch 25100 to 25199\n",
      "Batch 25200 to 25299\n",
      "Batch 25300 to 25399\n",
      "Batch 25400 to 25499\n",
      "Batch 25500 to 25599\n"
     ]
    }
   ],
   "source": [
    "index = pc.Index(index_name)\n",
    "BATCH_SIZE = 100\n",
    "\n",
    "for batch_start in range(0, len(df), BATCH_SIZE):\n",
    "    batch_end = batch_start + BATCH_SIZE\n",
    "    batch = df.iloc[batch_start:batch_end]\n",
    "    # set up batch to upsert, ids, context, and embeddings\n",
    "    ids = [str(i) for i in range(batch_start, batch_end)]\n",
    "    metadata = [{\"context\" : row[\"text\"]} for i, row in batch.iterrows()]\n",
    "    vectors = batch[\"embedding\"].tolist()\n",
    "    print(f\"Batch {batch_start} to {batch_end-1}\")\n",
    "    to_upsert = zip(ids, vectors, metadata)\n",
    "    index.upsert(vectors=to_upsert)\n",
    "    time.sleep(5)\n"
   ]
  },
  {
   "cell_type": "markdown",
   "id": "b22ede33",
   "metadata": {},
   "source": [
    "### Creating GPT 3.5 Turbo Chatbot with 5 response memory"
   ]
  },
  {
   "cell_type": "code",
   "execution_count": 116,
   "id": "83b59d81",
   "metadata": {},
   "outputs": [],
   "source": [
    "from langchain.chat_models import ChatOpenAI\n",
    "from langchain.chains.conversation.memory import ConversationBufferWindowMemory\n",
    "from langchain.chains import RetrievalQA\n",
    "from langchain.vectorstores import Pinecone\n",
    "import os\n",
    "\n",
    "vectorstore = Pinecone(index, embed, \"context\")\n",
    "\n",
    "# Create reference to OpenAI\n",
    "llm = ChatOpenAI(openai_api_key = OPENAI_KEY,\n",
    "                    model_name = \"gpt-3.5-turbo\",\n",
    "                    temperature = 0\n",
    "                    )\n",
    "\n",
    "\n",
    "# Include previous 5 messages in memory\n",
    "conv_mem = ConversationBufferWindowMemory(\n",
    "                memory_key = \"history\",\n",
    "                k = 5,\n",
    "                return_messages = True\n",
    "                )\n",
    "\n",
    "# Create chain to manage the chat session \n",
    "qa = RetrievalQA.from_chain_type(\n",
    "                llm = llm, \n",
    "                chain_type = \"stuff\",\n",
    "                retriever = vectorstore.as_retriever()\n",
    "                )\n"
   ]
  },
  {
   "cell_type": "code",
   "execution_count": 118,
   "id": "8c2da1bb",
   "metadata": {},
   "outputs": [
    {
     "name": "stderr",
     "output_type": "stream",
     "text": [
      "/home/charlie/Documents/UST_Database_Man/Final_Project/630env/lib/python3.9/site-packages/pydantic/main.py:1051: PydanticDeprecatedSince20: The `dict` method is deprecated; use `model_dump` instead. Deprecated in Pydantic V2.0 to be removed in V3.0. See Pydantic V2 Migration Guide at https://errors.pydantic.dev/2.7/migration/\n",
      "  warnings.warn('The `dict` method is deprecated; use `model_dump` instead.', category=PydanticDeprecatedSince20)\n"
     ]
    },
    {
     "data": {
      "text/plain": [
       "{'query': \"What was Miles Davis' childhood like?\",\n",
       " 'result': \"Miles Davis' childhood was spent in a musical family in Grand Rapids, Michigan. He often played music with his brother, Xavier Davis, and started playing the trumpet and tuba in grade school. He attended the Interlochen Arts Academy in northern Michigan towards the end of his high school career, where he played jazz and studied classical percussion and trap-set drumming.\"}"
      ]
     },
     "execution_count": 118,
     "metadata": {},
     "output_type": "execute_result"
    }
   ],
   "source": [
    "qa.invoke(\"What was Miles Davis' childhood like?\")"
   ]
  },
  {
   "cell_type": "code",
   "execution_count": 119,
   "id": "7487d8fb",
   "metadata": {},
   "outputs": [
    {
     "data": {
      "text/plain": [
       "[Document(page_content='Life and career\\nMiles was born Barry Miles Silverlight to Arthur and Hermine (née Klein) in Newark, New Jersey and grew up in North Plainfield, New Jersey.\\n\\nHe joined the musicians union at age nine in 1956 as a child prodigy drummer/pianist/vibist appearing with Miles Davis and John Coltrane among other talents of the day live and on TV shows including To Tell the Truth, Dick Van Dyke\\'s variety show, and The Andy Williams Show. He made his solo artist debut recording at age fourteen in 1961, \"Miles of Genius\", as drummer and composer with sidemen Al Hall and Duke Jordan. Miles continued to perform with his own band in the early 1960s in which he composed the material that enabled up and coming talents such as Woody Shaw, Eddie Gómez and Robin Kenyatta to display their talents.\\n\\nHe wrote the instruction book, \"Twelve Themes With Improvisations\", published in 1963 by Belwin-Mills, and currently out of print.'),\n",
       " Document(page_content='Biography\\nDavis grew up in a musical family in Grand Rapids, Michigan. His brother is pianist Xavier Davis. He often played with his brother in their home. In grade school, he also picked up the trumpet and tuba. Near the end of his high school career, he attended the Interlochen Arts Academy in northern Michigan. There he played jazz in a group setting and studied classical percussion and trap-set drumming.'),\n",
       " Document(page_content='Early life and education\\nBorn in Worcester, Massachusetts, Davis was raised in Binghamton, New York. He grew up with jazz music being played in his household. He studied jazz under Jackie McLean at the University of Hartford Hartt School.')]"
      ]
     },
     "execution_count": 119,
     "metadata": {},
     "output_type": "execute_result"
    }
   ],
   "source": [
    "query = \"What was Miles Davis' childhood like?\"\n",
    "vectorstore.similarity_search(query, k=3)"
   ]
  }
 ],
 "metadata": {
  "kernelspec": {
   "display_name": "630env",
   "language": "python",
   "name": "630env"
  },
  "language_info": {
   "codemirror_mode": {
    "name": "ipython",
    "version": 3
   },
   "file_extension": ".py",
   "mimetype": "text/x-python",
   "name": "python",
   "nbconvert_exporter": "python",
   "pygments_lexer": "ipython3",
   "version": "3.9.14"
  }
 },
 "nbformat": 4,
 "nbformat_minor": 5
}
